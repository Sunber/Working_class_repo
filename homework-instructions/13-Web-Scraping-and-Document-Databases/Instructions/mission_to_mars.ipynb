{
 "cells": [
  {
   "cell_type": "code",
   "execution_count": 15,
   "metadata": {},
   "outputs": [],
   "source": [
    "#Dependencies\n",
    "import urllib\n",
    "import urllib.request\n",
    "from bs4 import BeautifulSoup\n",
    "from splinter import Browser\n",
    "import lxml.html as lh\n",
    "import pandas as pd\n",
    "import requests"
   ]
  },
  {
   "cell_type": "code",
   "execution_count": 5,
   "metadata": {},
   "outputs": [],
   "source": [
    "executable_path = {'executable_path': 'C:/Users/Abhi/chromedriver.exe'}\n",
    "browser = Browser('chrome', **executable_path)"
   ]
  },
  {
   "cell_type": "code",
   "execution_count": 6,
   "metadata": {},
   "outputs": [],
   "source": [
    "#urls\n",
    "url = 'https://mars.nasa.gov/news/'\n",
    "browser.visit(url)\n"
   ]
  },
  {
   "cell_type": "code",
   "execution_count": 15,
   "metadata": {},
   "outputs": [],
   "source": [
    "html = browser.html\n",
    "news_soup = BeautifulSoup(html, 'html.parser')"
   ]
  },
  {
   "cell_type": "code",
   "execution_count": 16,
   "metadata": {},
   "outputs": [],
   "source": [
    "slide_elem = news_soup.select_one('ul.item_list li.slide')"
   ]
  },
  {
   "cell_type": "code",
   "execution_count": 17,
   "metadata": {},
   "outputs": [
    {
     "data": {
      "text/plain": [
       "<div class=\"content_title\"><a href=\"/news/8379/nasa-to-host-briefing-on-november-mars-insight-landing/\" target=\"_self\">NASA to Host Briefing on November Mars InSight Landing</a></div>"
      ]
     },
     "execution_count": 17,
     "metadata": {},
     "output_type": "execute_result"
    }
   ],
   "source": [
    "slide_elem.find(\"div\", class_='content_title')"
   ]
  },
  {
   "cell_type": "code",
   "execution_count": 28,
   "metadata": {},
   "outputs": [
    {
     "data": {
      "text/plain": [
       "'NASA to Host Briefing on November Mars InSight Landing'"
      ]
     },
     "execution_count": 28,
     "metadata": {},
     "output_type": "execute_result"
    }
   ],
   "source": [
    "news_title = slide_elem.find(\"div\", class_='content_title').get_text()\n",
    "news_title"
   ]
  },
  {
   "cell_type": "code",
   "execution_count": 19,
   "metadata": {},
   "outputs": [
    {
     "data": {
      "text/plain": [
       "\"A briefing on NASA's upcoming InSight Mars landing will air on Wed. Oct. 31 at 1:30 p.m. EDT (10:30 a.m. PDT) on NASA TV, the agency's website and NASA InSight Facebook Page.\""
      ]
     },
     "execution_count": 19,
     "metadata": {},
     "output_type": "execute_result"
    }
   ],
   "source": [
    "#This part gets the news articles from the NASA website\n",
    "news_p = slide_elem.find(\"div\", class_='article_teaser_body').get_text()\n",
    "news_p"
   ]
  },
  {
   "cell_type": "markdown",
   "metadata": {},
   "source": [
    "## JPL Space Images Featured Image"
   ]
  },
  {
   "cell_type": "code",
   "execution_count": 29,
   "metadata": {},
   "outputs": [],
   "source": [
    "#url\n",
    "url = 'https://www.jpl.nasa.gov/spaceimages/?search=&category=Mars'\n",
    "browser.visit(url)"
   ]
  },
  {
   "cell_type": "code",
   "execution_count": 30,
   "metadata": {},
   "outputs": [],
   "source": [
    "full_image = browser.find_by_id('full_image')\n",
    "full_image.click()"
   ]
  },
  {
   "cell_type": "code",
   "execution_count": 31,
   "metadata": {},
   "outputs": [],
   "source": [
    "button_info = browser.find_link_by_partial_text(\"more info\")\n",
    "button_info.click()"
   ]
  },
  {
   "cell_type": "code",
   "execution_count": 32,
   "metadata": {},
   "outputs": [],
   "source": [
    "html = browser.html\n",
    "image_soup = BeautifulSoup(html, 'html.parser')"
   ]
  },
  {
   "cell_type": "code",
   "execution_count": 33,
   "metadata": {},
   "outputs": [],
   "source": [
    "image_elem = image_soup.select_one('figure.lede a img').get('src')"
   ]
  },
  {
   "cell_type": "code",
   "execution_count": 34,
   "metadata": {},
   "outputs": [
    {
     "data": {
      "text/plain": [
       "'/spaceimages/images/largesize/PIA16729_hires.jpg'"
      ]
     },
     "execution_count": 34,
     "metadata": {},
     "output_type": "execute_result"
    }
   ],
   "source": [
    "image_elem"
   ]
  },
  {
   "cell_type": "code",
   "execution_count": 35,
   "metadata": {},
   "outputs": [
    {
     "data": {
      "text/plain": [
       "'https://www.jpl.nasa.gov/spaceimages/images/largesize/PIA16729_hires.jpg'"
      ]
     },
     "execution_count": 35,
     "metadata": {},
     "output_type": "execute_result"
    }
   ],
   "source": [
    "img_url = f'https://www.jpl.nasa.gov{image_elem}'\n",
    "img_url"
   ]
  },
  {
   "cell_type": "code",
   "execution_count": 7,
   "metadata": {},
   "outputs": [],
   "source": [
    "#This part handles the weather on Mars\n",
    "#url \n",
    "url = 'https://twitter.com/marswxreport?lang=en'\n",
    "wpage = urllib.request.urlopen(url)"
   ]
  },
  {
   "cell_type": "code",
   "execution_count": 8,
   "metadata": {},
   "outputs": [],
   "source": [
    "#mars_weather = browser(\"MarsWxReport\")\n",
    "#mars_weather.click()\n",
    "soup = BeautifulSoup(wpage,\"html.parser\")"
   ]
  },
  {
   "cell_type": "code",
   "execution_count": 9,
   "metadata": {},
   "outputs": [
    {
     "name": "stdout",
     "output_type": "stream",
     "text": [
      "Mars Weather (@MarsWxReport) | Twitter\n"
     ]
    }
   ],
   "source": [
    "print(soup.title.text)"
   ]
  },
  {
   "cell_type": "code",
   "execution_count": 10,
   "metadata": {},
   "outputs": [
    {
     "name": "stdout",
     "output_type": "stream",
     "text": [
      "Sol 2209 (2018-10-23), high -18C/0F, low -73C/-99F, pressure at 8.79 hPa, daylight 06:09-18:26\n",
      "Sol 2208 (2018-10-22), high -18C/0F, low -75C/-102F, pressure at 8.80 hPa, daylight 06:08-18:26\n",
      "Sol 2207 (2018-10-21), high -14C/6F, low -72C/-97F, pressure at 8.81 hPa, daylight 06:07-18:25\n",
      "Sol 2206 (2018-10-20), high -14C/6F, low -74C/-101F, pressure at 8.81 hPa, daylight 06:06-18:24\n",
      "Sol 2205 (2018-10-19), high -13C/8F, low -70C/-93F, pressure at 8.80 hPa, daylight 06:06-18:24\n",
      "Sol 2204 (2018-10-18), high -14C/6F, low -56C/-68F, pressure at 8.54 hPa, daylight 06:05-18:23\n",
      "Wondering where the Mars weather reports have been?  Curiosity is back online after a memory anomaly on Sol 2172. Read more here: https://mars.jpl.nasa.gov/msl/mission/mars-rover-curiosity-mission-updates/?mu=sol-2204-curiosity-science-is-baaaack …\n",
      "Sol 2174 (2018-09-17), high -22C/-7F, low -68C/-90F, pressure at 8.96 hPa, daylight 05:45-18:01\n",
      "Sol 2173 (2018-09-16), high -14C/6F, low -65C/-84F, pressure at 8.93 hPa, daylight 05:44-18:01\n",
      "Sol 2172 (2018-09-15), high -14C/6F, low -73C/-99F, pressure at 8.93 hPa, daylight 05:43-18:00\n",
      "And finally - a stack of all the images - you can see so much detail here https://dougellison.smugmug.com/Machines/Space-X-SAOCOM-1A/i-zbJzq8L …pic.twitter.com/9nLwAH3oZQ\n",
      "We detected atomic oxygen in the Martian atmosphere for the first time since the Viking and Mariner missions of the 1970s. But our instruments detected less than expected, which may be due to variations in the Red Planet's atmosphere. Details: https://go.nasa.gov/2Pav6mN pic.twitter.com/UY3z6TnrlH\n",
      "NASA opened for business on this day in 1958. Replacing the previous agency National Advisory Committee for Aeronautics (NACA)pic.twitter.com/NSoxyxpkyh\n",
      "I’m 60 days from landing on #Mars! To ensure my successful Entry, Descent and Landing (EDL), my team begins intensive preparations during the “approach” phase. This happens to be the phase I’m entering right now  More: http://go.nasa.gov/2DEAjOl pic.twitter.com/8hrnNiriGi\n",
      "How did we know the recent Mars dust storm went global? The confirmation came from an unlikely place. Following the first orbital observations of it, evidence quietly materialized on the other side of the globe from a small motor on @MarsCuriosity: https://go.nasa.gov/2DwWE4L pic.twitter.com/pJruiAvveb\n",
      "That dusty dot on the slopes of the Mars’ Perseverance Valley is the Opportunity rover, as seen by MRO’s HiRISE camera.  We last heard from Oppy over 100 days ago. https://www.nasa.gov/feature/jpl/opportunity-emerges-in-a-dusty-picture …pic.twitter.com/x9WxH6hIhB\n",
      "Jose Morales captured Mars from Chicago last night. 15000 frames for this Mars tonight.  The South Pole, Syrtis Major Planum, and Hellas Planitia are visible.pic.twitter.com/cFkgmdoHDV\n",
      "Astronomical autumn begins with the September equinox at 9:54 ET tonight https://www.wral.com/autumn-s-arrival-celebrated-differently-at-different-times-around-the-world/17864537/ …pic.twitter.com/cUArBS7WFV\n",
      "Sol 2171 (2018-09-14), high -12C/10F, low -65C/-84F, pressure at 8.79 hPa, daylight 05:43-17:59\n",
      "Sol 2170 (2018-09-13), high -12C/10F, low -68C/-90F, pressure at 8.86 hPa, daylight 05:42-17:59\n"
     ]
    }
   ],
   "source": [
    "for tweets in soup.findAll('div',{\"class\":\"content\"}):\n",
    "    print(tweets.find('p').text)"
   ]
  },
  {
   "cell_type": "code",
   "execution_count": 11,
   "metadata": {},
   "outputs": [],
   "source": [
    "#This section will print out some fun facts about Mars\n",
    "#url\n",
    "url = 'https://space-facts.com/mars/'\n",
    "wpage = urllib.request.urlopen(url)"
   ]
  },
  {
   "cell_type": "code",
   "execution_count": 12,
   "metadata": {},
   "outputs": [],
   "source": [
    "soup = BeautifulSoup(wpage, \"html.parser\")"
   ]
  },
  {
   "cell_type": "code",
   "execution_count": 13,
   "metadata": {},
   "outputs": [
    {
     "name": "stdout",
     "output_type": "stream",
     "text": [
      "Mars Facts - Interesting Facts about Planet Mars\n"
     ]
    }
   ],
   "source": [
    "print(soup.title.text)"
   ]
  },
  {
   "cell_type": "code",
   "execution_count": 29,
   "metadata": {},
   "outputs": [
    {
     "name": "stdout",
     "output_type": "stream",
     "text": [
      "Equatorial Diameter:\n",
      "6,792 km\n",
      "\n",
      "Polar Diameter:\n",
      "6,752 km\n",
      "\n",
      "Mass:\n",
      "6.42 x 10^23 kg (10.7% Earth)\n",
      "Moons:\n",
      "2 (Phobos & Deimos)\n",
      "Orbit Distance:\n",
      "227,943,824 km (1.52 AU)\n",
      "Orbit Period:\n",
      "687 days (1.9 years)\n",
      "\n",
      "Surface Temperature: \n",
      "-153 to 20 °C\n",
      "First Record:\n",
      "2nd millennium BC\n",
      "Recorded By:\n",
      "Egyptian astronomers\n"
     ]
    }
   ],
   "source": [
    "for tr in soup.find_all('tr'):\n",
    "    tds = tr.find_all('td')\n",
    "    print(tds[0].text)\n",
    "    print(tds[1].text)"
   ]
  },
  {
   "cell_type": "code",
   "execution_count": 38,
   "metadata": {},
   "outputs": [],
   "source": [
    "#This section will print out each of the hemispheres\n",
    "#url\n",
    "url = 'https://astrogeology.usgs.gov/search/results?q=hemisphere+enhanced&k1=target&v1=Mars'\n",
    "wpage = urllib.request.urlopen(url)\n",
    "browser.visit(url)"
   ]
  },
  {
   "cell_type": "code",
   "execution_count": 40,
   "metadata": {},
   "outputs": [],
   "source": [
    "lnk1 = browser.find_link_by_partial_text(\"Cerberus Hemisphere Enhanced\")\n",
    "lnk1.click()"
   ]
  },
  {
   "cell_type": "code",
   "execution_count": null,
   "metadata": {},
   "outputs": [],
   "source": []
  },
  {
   "cell_type": "code",
   "execution_count": null,
   "metadata": {},
   "outputs": [],
   "source": [
    "hemisphere_image_urls = [\n",
    "    \n",
    "]"
   ]
  }
 ],
 "metadata": {
  "kernelspec": {
   "display_name": "Python 3",
   "language": "python",
   "name": "python3"
  },
  "language_info": {
   "codemirror_mode": {
    "name": "ipython",
    "version": 3
   },
   "file_extension": ".py",
   "mimetype": "text/x-python",
   "name": "python",
   "nbconvert_exporter": "python",
   "pygments_lexer": "ipython3",
   "version": "3.6.5"
  }
 },
 "nbformat": 4,
 "nbformat_minor": 2
}
