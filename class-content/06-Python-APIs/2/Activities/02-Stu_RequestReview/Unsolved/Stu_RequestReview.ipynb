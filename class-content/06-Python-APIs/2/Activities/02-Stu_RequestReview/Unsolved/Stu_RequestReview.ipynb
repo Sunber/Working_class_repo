{
 "cells": [
  {
   "cell_type": "code",
   "execution_count": 6,
   "metadata": {},
   "outputs": [],
   "source": [
    "# Dependencies\n",
    "import json\n",
    "import requests "
   ]
  },
  {
   "cell_type": "code",
   "execution_count": 9,
   "metadata": {},
   "outputs": [
    {
     "data": {
      "text/plain": [
       "<Response [200]>"
      ]
     },
     "execution_count": 9,
     "metadata": {},
     "output_type": "execute_result"
    }
   ],
   "source": [
    "# Specify the URL\n",
    "spec_url = \"http://nyt-mongo-scraper.herokuapp.com/api/headlines\"    \n",
    "# Make request and store response\n",
    "r = requests.get(spec_url)\n",
    "r.status_code\n",
    "r"
   ]
  },
  {
   "cell_type": "code",
   "execution_count": 11,
   "metadata": {},
   "outputs": [],
   "source": [
    "# JSON-ify response\n",
    "data = r.json()"
   ]
  },
  {
   "cell_type": "code",
   "execution_count": 12,
   "metadata": {
    "scrolled": true
   },
   "outputs": [
    {
     "name": "stdout",
     "output_type": "stream",
     "text": [
      "{'saved': False, '_id': '5b74dcd26ae52500148a1d95', 'headline': 'Battery Park City: A Resort-Like Community Built on Landfill', 'summary': 'Monthly expenses may be slightly higher in this landfill neighborhood than elsewhere in Manhattan, but many residents say the benefits outweigh the costs.', 'url': 'https://www.nytimes.com/2018/08/15/realestate/battery-park-city-a-resort-like-community-built-on-landfill.html', 'date': '2018-08-16T02:09:22.795Z', '__v': 0}\n",
      "{'saved': False, '_id': '5b74dcd26ae52500148a1d79', 'headline': 'For Catholics, Abuse Report Forces a Hard Look at the Church', 'summary': 'Catholics around the country who read the report of sexual abuse by priests said they felt frustrated with the church’s leadership.', 'url': 'https://www.nytimes.com/2018/08/15/us/priest-sexual-abuse-catholic-church.html', 'date': '2018-08-16T02:09:22.742Z', '__v': 0}\n"
     ]
    }
   ],
   "source": [
    "# Print first and last articles\n",
    "print(data[0])\n",
    "print(data[-1])"
   ]
  },
  {
   "cell_type": "code",
   "execution_count": 13,
   "metadata": {},
   "outputs": [
    {
     "data": {
      "text/plain": [
       "29"
      ]
     },
     "execution_count": 13,
     "metadata": {},
     "output_type": "execute_result"
    }
   ],
   "source": [
    "#Print the number of responses received.\n",
    "len(data)"
   ]
  },
  {
   "cell_type": "code",
   "execution_count": null,
   "metadata": {},
   "outputs": [],
   "source": []
  }
 ],
 "metadata": {
  "kernelspec": {
   "display_name": "Python 3",
   "language": "python",
   "name": "python3"
  },
  "language_info": {
   "codemirror_mode": {
    "name": "ipython",
    "version": 3
   },
   "file_extension": ".py",
   "mimetype": "text/x-python",
   "name": "python",
   "nbconvert_exporter": "python",
   "pygments_lexer": "ipython3",
   "version": "3.6.5"
  },
  "varInspector": {
   "cols": {
    "lenName": 16,
    "lenType": 16,
    "lenVar": 40
   },
   "kernels_config": {
    "python": {
     "delete_cmd_postfix": "",
     "delete_cmd_prefix": "del ",
     "library": "var_list.py",
     "varRefreshCmd": "print(var_dic_list())"
    },
    "r": {
     "delete_cmd_postfix": ") ",
     "delete_cmd_prefix": "rm(",
     "library": "var_list.r",
     "varRefreshCmd": "cat(var_dic_list()) "
    }
   },
   "types_to_exclude": [
    "module",
    "function",
    "builtin_function_or_method",
    "instance",
    "_Feature"
   ],
   "window_display": false
  }
 },
 "nbformat": 4,
 "nbformat_minor": 2
}
